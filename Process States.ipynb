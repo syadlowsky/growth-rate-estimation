{
 "cells": [
  {
   "cell_type": "code",
   "execution_count": 19,
   "metadata": {},
   "outputs": [],
   "source": [
    "import csv\n",
    "import matplotlib\n",
    "import matplotlib.pyplot as plt\n",
    "from collections import defaultdict\n",
    "import numpy as np\n",
    "from math import sqrt\n",
    "import analyze\n",
    "from itertools import chain"
   ]
  },
  {
   "cell_type": "code",
   "execution_count": 65,
   "metadata": {},
   "outputs": [
    {
     "name": "stdout",
     "output_type": "stream",
     "text": [
      "[0.0000e+00 0.0000e+00 0.0000e+00 5.4000e+01 9.8000e+01 1.2500e+02\n",
      " 1.6800e+02 1.9700e+02 2.3400e+02 2.6500e+02 3.0800e+02 3.0800e+02\n",
      " 3.2000e+03 3.3030e+03 5.2720e+03 5.4930e+03 7.2060e+03 1.4597e+04\n",
      " 2.2284e+04 3.2427e+04 4.5437e+04 6.1401e+04 7.8289e+04 9.1270e+04]\n"
     ]
    }
   ],
   "source": [
    "f = open('data/states-daily.csv')\n",
    "reader = csv.DictReader(f)\n",
    "rows = []\n",
    "\n",
    "num_cols = 24\n",
    "def default():\n",
    "  return np.zeros(shape=(num_cols,))\n",
    "def intsafe(x):\n",
    "  return int(x) if x != '' else -1\n",
    "tests = defaultdict(default)\n",
    "hosps = defaultdict(default)\n",
    "deaths = defaultdict(default)\n",
    "checked = defaultdict(default)\n",
    "checked_all = np.zeros(shape=(num_cols,))\n",
    "for row in reader:\n",
    "    day = int(row['date']) - 20200301\n",
    "    state = row['state']\n",
    "    test_count = intsafe(row['positive'])\n",
    "    checked_count = intsafe(row['totalTestResults'])\n",
    "    death_count = intsafe(row['death'])\n",
    "    hosp_count = intsafe(row['hospitalized'])\n",
    "    tests[state][day] = test_count\n",
    "    hosps[state][day] = hosp_count\n",
    "    deaths[state][day] = death_count\n",
    "    checked[state][day] = checked_count\n",
    "    checked_all[day] += checked_count\n",
    "print(checked[\"NY\"])"
   ]
  },
  {
   "cell_type": "code",
   "execution_count": 77,
   "metadata": {},
   "outputs": [],
   "source": [
    "def calculate_growth(series, thresh=10, start=5):\n",
    "  days = np.arange(0, series.shape[0])\n",
    "  if ((series < thresh).all()):\n",
    "    return None\n",
    "  keep = (series >= start) & (series < 220000)\n",
    "  series = series[keep]\n",
    "  days = days[keep]\n",
    "  if (days.shape[0] < 4):\n",
    "    return None\n",
    "  print(series)\n",
    "  print(days)\n",
    "  model = analyze.ExponentialGrowthRateEstimator(family='NegativeBinomial', alpha=None)\n",
    "  model.fit(day=days, cases=series)\n",
    "  print(np.diff(series))\n",
    "  print(model.fitted_glm.mu)\n",
    "  print(model.summary())\n",
    "  est = model.growth_rate()\n",
    "  low, high = model.growth_rate_confint()\n",
    "  return (max(low, 0), est, high)"
   ]
  },
  {
   "cell_type": "code",
   "execution_count": 60,
   "metadata": {},
   "outputs": [
    {
     "name": "stdout",
     "output_type": "stream",
     "text": [
      "[44. 49. 58. 72.]\n",
      "[20 21 22 23]\n",
      "[ 5.  9. 14.]\n",
      "[ 5.20223076  8.59553848 14.20223076]\n",
      " (for CO)\n",
      "[158. 185. 217. 259.]\n",
      "[20 21 22 23]\n",
      "[27. 32. 42.]\n",
      "[26.44629327 33.10741347 41.44629327]\n",
      " (for FL)\n",
      "[61. 71. 79. 94.]\n",
      "[20 21 22 23]\n",
      "[10.  8. 15.]\n",
      "[ 8.59510813 10.80978374 13.59510813]\n",
      " (for MA)\n",
      "[1603. 1974. 2635. 3234.]\n",
      "[20 21 22 23]\n",
      "[371. 661. 599.]\n",
      "[433.66543134 535.66913732 661.66543134]\n",
      " (for NY)\n",
      "[ 58.  83. 104. 145.]\n",
      "[20 21 22 23]\n",
      "[25. 21. 41.]\n",
      "[21.37017872 28.25964256 37.37017872]\n",
      " (for OH)\n",
      "[10. 11. 15. 25.]\n",
      "[20 21 22 23]\n",
      "[ 1.  4. 10.]\n",
      "[ 1.22799813  3.54400375 10.22799813]\n",
      " (for OK)\n",
      "[25. 32. 38. 45.]\n",
      "[20 21 22 23]\n",
      "[7. 6. 7.]\n",
      "[6.66666667 6.66666667 6.66666667]\n",
      " (for VA)\n"
     ]
    }
   ],
   "source": [
    "growths = dict()\n",
    "dataset = hosps.items()\n",
    "for k, v in dataset:\n",
    "  #try:\n",
    "  growth = calculate_growth(v, thresh = 20, start = 5)\n",
    "  if growth:\n",
    "    print(' (for %s)' % k)\n",
    "    growths[k] = growth\n",
    "  #except Exception:\n",
    "  #  print('Failed to calculate for %s' % k)"
   ]
  },
  {
   "cell_type": "code",
   "execution_count": 62,
   "metadata": {},
   "outputs": [
    {
     "data": {
      "image/png": "[encoded data removed]",
      "text/plain": [
       "<Figure size 576x432 with 1 Axes>"
      ]
     },
     "metadata": {
      "needs_background": "light"
     },
     "output_type": "display_data"
    }
   ],
   "source": [
    "to_plot = growths#{k:v for k, v in growths.items() if k == 'WA'}\n",
    "names = list(to_plot.keys())\n",
    "err_l = list([v[1]-v[0] for v in to_plot.values()])\n",
    "ests  = list([v[1] for v in to_plot.values()])\n",
    "err_h = list([v[2]-v[1] for v in to_plot.values()])\n",
    "errs = np.array([err_l, err_h])\n",
    "plt.rcParams['axes.axisbelow'] = True\n",
    "plt.bar(range(len(names)), ests, yerr=errs, align='center')\n",
    "plt.ylim([0,0.8])\n",
    "plt.grid(axis='y')\n",
    "plt.xlabel('State')\n",
    "plt.ylabel('Growth rate')\n",
    "plt.title('Growth in COVID-19 Hospitalizations by State')\n",
    "fig = matplotlib.pyplot.gcf()\n",
    "fig.set_size_inches(8, 6)\n",
    "\n",
    "plt.xticks(range(len(names)), names)\n",
    "plt.show()"
   ]
  },
  {
   "cell_type": "code",
   "execution_count": 79,
   "metadata": {},
   "outputs": [
    {
     "name": "stdout",
     "output_type": "stream",
     "text": [
      "[   866.   1129.   1794.   2150.   2752.   3951.   4585.   7123.   9356.\n",
      "  15535.  19552.  25721.  40123.  53327.  73956. 100842. 135185. 179112.]\n",
      "[ 3  4  5  6  7  8  9 10 11 12 13 14 15 16 17 18 19 20]\n",
      "Using alpha = 0.00884200038359147\n",
      "[  263.   665.   356.   602.  1199.   634.  2538.  2233.  6179.  4017.\n",
      "  6169. 14402. 13204. 20629. 26886. 34343. 43927.]\n",
      "[  293.0772976    404.46044144   558.17441348   770.30691742\n",
      "  1063.05974028  1467.07239134  2024.62883305  2794.08292039\n",
      "  3855.9657151   5321.41386624  7343.8011715  10134.79067822\n",
      " 13986.4873371  19302.00970518 26637.68033239 36761.25047746\n",
      " 50732.2529516 ]\n",
      "                 Generalized Linear Model Regression Results                  \n",
      "==============================================================================\n",
      "Dep. Variable:                      y   No. Observations:                   17\n",
      "Model:                            GLM   Df Residuals:                       15\n",
      "Model Family:        NegativeBinomial   Df Model:                            1\n",
      "Link Function:                    log   Scale:                          1.0000\n",
      "Method:                          IRLS   Log-Likelihood:                -203.91\n",
      "Date:                Wed, 25 Mar 2020   Deviance:                       176.47\n",
      "Time:                        19:23:40   Pearson chi2:                     174.\n",
      "No. Iterations:                     7                                         \n",
      "Covariance Type:            nonrobust                                         \n",
      "==============================================================================\n",
      "                 coef    std err          z      P>|z|      [0.025      0.975]\n",
      "------------------------------------------------------------------------------\n",
      "const          4.3920      0.065     67.202      0.000       4.264       4.520\n",
      "x1             0.3221      0.005     65.415      0.000       0.312       0.332\n",
      "==============================================================================\n"
     ]
    },
    {
     "data": {
      "text/plain": [
       "(0.3667917420999316, 0.3800469867778371, 0.3934307817725604)"
      ]
     },
     "execution_count": 79,
     "metadata": {},
     "output_type": "execute_result"
    }
   ],
   "source": [
    "calculate_growth(checked_all, thresh = 20, start = 100)"
   ]
  },
  {
   "cell_type": "code",
   "execution_count": null,
   "metadata": {},
   "outputs": [],
   "source": []
  }
 ],
 "metadata": {
  "kernelspec": {
   "display_name": "Python 3",
   "language": "python",
   "name": "python3"
  },
  "language_info": {
   "codemirror_mode": {
    "name": "ipython",
    "version": 3
   },
   "file_extension": ".py",
   "mimetype": "text/x-python",
   "name": "python",
   "nbconvert_exporter": "python",
   "pygments_lexer": "ipython3",
   "version": "3.7.3"
  }
 },
 "nbformat": 4,
 "nbformat_minor": 2
}
