{
 "cells": [
  {
   "cell_type": "code",
   "execution_count": 1,
   "metadata": {},
   "outputs": [
    {
     "name": "stderr",
     "output_type": "stream",
     "text": [
      "/Users/steve/anaconda3/lib/python3.7/site-packages/statsmodels/compat/pandas.py:23: FutureWarning: The Panel class is removed from pandas. Accessing it from the top-level namespace will also be removed in the next version\n",
      "  data_klasses = (pandas.Series, pandas.DataFrame, pandas.Panel)\n"
     ]
    }
   ],
   "source": [
    "import matplotlib\n",
    "import matplotlib.pyplot as plt\n",
    "import numpy as np\n",
    "import analyze"
   ]
  },
  {
   "cell_type": "markdown",
   "metadata": {},
   "source": [
    "This data is from Santa Clara county, for March 12-23."
   ]
  },
  {
   "cell_type": "code",
   "execution_count": 2,
   "metadata": {},
   "outputs": [],
   "source": [
    "day = np.array([12, 13, 14, 15, 17, 18, 19, 20, 21, 22, 23])\n",
    "count = np.array([37, 38, 48, 52, 56, 62, 65, 93, 108, 116, 125])"
   ]
  },
  {
   "cell_type": "code",
   "execution_count": 3,
   "metadata": {},
   "outputs": [
    {
     "data": {
      "text/plain": [
       "<statsmodels.genmod.generalized_linear_model.GLMResultsWrapper at 0x1c1db89630>"
      ]
     },
     "execution_count": 3,
     "metadata": {},
     "output_type": "execute_result"
    }
   ],
   "source": [
    "model = analyze.ExponentialGrowthRateEstimator(family='NegativeBinomial', alpha=0.1, cumulative = True)\n",
    "model.fit(day, count)"
   ]
  },
  {
   "cell_type": "code",
   "execution_count": 4,
   "metadata": {},
   "outputs": [
    {
     "name": "stdout",
     "output_type": "stream",
     "text": [
      "Growth rate is 0.1376751864425343 (95% CI 0.034222704426838835 - 0.251475938699637)\n"
     ]
    }
   ],
   "source": [
    "growth_rate = model.growth_rate()\n",
    "lower_ci, upper_ci = model.growth_rate_confint()\n",
    "print(\"Growth rate is {} (95% CI {} - {})\".format(growth_rate, lower_ci, upper_ci))"
   ]
  },
  {
   "cell_type": "code",
   "execution_count": 5,
   "metadata": {},
   "outputs": [
    {
     "data": {
      "image/png": "[encoded data removed]",
      "text/plain": [
       "<Figure size 432x288 with 1 Axes>"
      ]
     },
     "metadata": {
      "needs_background": "light"
     },
     "output_type": "display_data"
    }
   ],
   "source": [
    "names = [\"Santa Clara\"]\n",
    "ests = np.array([growth_rate])\n",
    "errs = np.array([[growth_rate-lower_ci], [upper_ci-growth_rate]])\n",
    "plt.rcParams['axes.axisbelow'] = True\n",
    "plt.bar(range(len(names)), ests, yerr=errs, align='center')\n",
    "plt.ylim([0,0.4])\n",
    "plt.grid(axis='y')\n",
    "plt.xlabel('Area')\n",
    "plt.ylabel('Growth rate')\n",
    "plt.title('Growth in COVID-19 Hospitalizations by Area')\n",
    "\n",
    "plt.xticks(range(len(names)), names)\n",
    "plt.show()"
   ]
  },
  {
   "cell_type": "code",
   "execution_count": null,
   "metadata": {},
   "outputs": [],
   "source": []
  }
 ],
 "metadata": {
  "kernelspec": {
   "display_name": "Python 3",
   "language": "python",
   "name": "python3"
  },
  "language_info": {
   "codemirror_mode": {
    "name": "ipython",
    "version": 3
   },
   "file_extension": ".py",
   "mimetype": "text/x-python",
   "name": "python",
   "nbconvert_exporter": "python",
   "pygments_lexer": "ipython3",
   "version": "3.7.3"
  }
 },
 "nbformat": 4,
 "nbformat_minor": 2
}
