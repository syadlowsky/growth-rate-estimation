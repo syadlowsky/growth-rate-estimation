{
 "cells": [
  {
   "cell_type": "code",
   "execution_count": 1,
   "metadata": {},
   "outputs": [
    {
     "name": "stderr",
     "output_type": "stream",
     "text": [
      "/Users/steve/anaconda3/lib/python3.7/site-packages/statsmodels/compat/pandas.py:23: FutureWarning: The Panel class is removed from pandas. Accessing it from the top-level namespace will also be removed in the next version\n",
      "  data_klasses = (pandas.Series, pandas.DataFrame, pandas.Panel)\n"
     ]
    }
   ],
   "source": [
    "import csv\n",
    "import matplotlib\n",
    "import matplotlib.pyplot as plt\n",
    "from collections import defaultdict\n",
    "import numpy as np\n",
    "from math import sqrt\n",
    "import analyze\n",
    "from itertools import chain"
   ]
  },
  {
   "cell_type": "code",
   "execution_count": 2,
   "metadata": {},
   "outputs": [],
   "source": [
    "hosps = {\n",
    "    'Santa Clara County since 3/12' : {\n",
    "        'day' : np.array([12, 13, 14, 15, 17, 18, 19, 20, 21, 22, 23]),\n",
    "        'count' : np.array([37, 38, 48, 52, 56, 62, 65, 93, 108, 116, 125])\n",
    "    },\n",
    "    'New York State since 3/17' : {\n",
    "        'day' : np.array([17, 18, 19, 20, 21, 22, 23, 24, 25, 26]), # 12, 13, 14, 15, 16, \n",
    "        'count' : np.array([264, 549, 777, 1255, 1603, 1974, 2635, 3234, 3805, 5327]) # 47, 50, 117, 137, 158, \n",
    "    }\n",
    "}"
   ]
  },
  {
   "cell_type": "code",
   "execution_count": 3,
   "metadata": {},
   "outputs": [],
   "source": [
    "def calculate_growth(days, series):\n",
    "  model = analyze.ExponentialGrowthRateEstimator(family='NegativeBinomial', alpha=None)\n",
    "  model.fit(day=days, cases=series)\n",
    "  print(np.diff(series) / np.diff(days))\n",
    "  print(model.fitted_glm.mu)\n",
    "  est = model.growth_rate()\n",
    "  low, high = model.growth_rate_confint()\n",
    "  return (max(low, 0), est, high)"
   ]
  },
  {
   "cell_type": "code",
   "execution_count": 4,
   "metadata": {},
   "outputs": [
    {
     "name": "stdout",
     "output_type": "stream",
     "text": [
      "[0.         0.         0.         0.52495844 0.         0.\n",
      " 0.         0.         0.         0.        ]\n",
      "[ 1. 10.  4.  2.  6.  3. 28. 15.  8.  9.]\n",
      "[ 4.03718844  4.59300912  5.2253525   7.23701441  7.69432366  8.75364111\n",
      "  9.95880028 11.32987996 12.8897233  14.66431836]\n",
      " (for Santa Clara County since 3/12)\n",
      "[0. 0. 0. 0. 0. 0. 0. 0. 0.]\n",
      "[ 285.  228.  478.  348.  371.  661.  599.  571. 1522.]\n",
      "[ 241.27248034  289.35666713  347.02374964  416.18354264  499.12647576\n",
      "  598.59944779  717.89679831  860.96940939 1032.55555066]\n",
      " (for New York State since 3/17)\n"
     ]
    }
   ],
   "source": [
    "growths = dict()\n",
    "dataset = hosps.items()\n",
    "for k, v in dataset:\n",
    "  days = v['day']\n",
    "  count = v['count']\n",
    "  #try:\n",
    "  growth = calculate_growth(days, count)\n",
    "  if growth:\n",
    "    print(' (for %s)' % k)\n",
    "    growths[k] = growth\n",
    "  #except Exception:\n",
    "  #  print('Failed to calculate for %s' % k)"
   ]
  },
  {
   "cell_type": "code",
   "execution_count": 5,
   "metadata": {},
   "outputs": [
    {
     "data": {
      "image/png": "[encoded data removed]",
      "text/plain": [
       "<Figure size 576x432 with 1 Axes>"
      ]
     },
     "metadata": {
      "needs_background": "light"
     },
     "output_type": "display_data"
    }
   ],
   "source": [
    "to_plot = growths\n",
    "names = list(to_plot.keys())\n",
    "err_l = list([v[1]-v[0] for v in to_plot.values()])\n",
    "ests  = list([v[1] for v in to_plot.values()])\n",
    "err_h = list([v[2]-v[1] for v in to_plot.values()])\n",
    "errs = np.array([err_l, err_h])\n",
    "plt.rcParams['axes.axisbelow'] = True\n",
    "plt.bar(range(len(names)), ests, yerr=errs, align='center')\n",
    "plt.ylim([0,0.4])\n",
    "plt.grid(axis='y')\n",
    "plt.xlabel('State')\n",
    "plt.ylabel('Growth rate')\n",
    "plt.xticks(rotation=15)\n",
    "plt.title('Growth in COVID-19 Hospitalizations by Area')\n",
    "fig = matplotlib.pyplot.gcf()\n",
    "fig.set_size_inches(8, 6)\n",
    "\n",
    "plt.xticks(range(len(names)), names)\n",
    "plt.show()"
   ]
  },
  {
   "cell_type": "code",
   "execution_count": null,
   "metadata": {},
   "outputs": [],
   "source": []
  },
  {
   "cell_type": "code",
   "execution_count": null,
   "metadata": {},
   "outputs": [],
   "source": []
  }
 ],
 "metadata": {
  "kernelspec": {
   "display_name": "Python 3",
   "language": "python",
   "name": "python3"
  },
  "language_info": {
   "codemirror_mode": {
    "name": "ipython",
    "version": 3
   },
   "file_extension": ".py",
   "mimetype": "text/x-python",
   "name": "python",
   "nbconvert_exporter": "python",
   "pygments_lexer": "ipython3",
   "version": "3.7.3"
  }
 },
 "nbformat": 4,
 "nbformat_minor": 2
}
