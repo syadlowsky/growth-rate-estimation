{
 "cells": [
  {
   "cell_type": "code",
   "execution_count": 1,
   "metadata": {},
   "outputs": [
    {
     "name": "stderr",
     "output_type": "stream",
     "text": [
      "/Users/steve/anaconda3/lib/python3.7/site-packages/statsmodels/compat/pandas.py:23: FutureWarning: The Panel class is removed from pandas. Accessing it from the top-level namespace will also be removed in the next version\n",
      "  data_klasses = (pandas.Series, pandas.DataFrame, pandas.Panel)\n"
     ]
    }
   ],
   "source": [
    "import csv\n",
    "import matplotlib\n",
    "import matplotlib.pyplot as plt\n",
    "from collections import defaultdict\n",
    "import numpy as np\n",
    "from math import sqrt\n",
    "import analyze\n",
    "from itertools import chain"
   ]
  },
  {
   "cell_type": "code",
   "execution_count": 2,
   "metadata": {},
   "outputs": [],
   "source": [
    "f = open('data/time_series_covid19_deaths_global.csv')\n",
    "reader = csv.reader(f)\n",
    "first = True\n",
    "rows = []\n",
    "\n",
    "num_cols = 62\n",
    "def default():\n",
    "  return np.zeros(shape=(num_cols,))\n",
    "province_counts = defaultdict(default)\n",
    "agg_counts = defaultdict(default)\n",
    "region_counts = defaultdict(default)\n",
    "us_counts = defaultdict(default)\n",
    "for row in reader:\n",
    "  if first:\n",
    "    columns = row\n",
    "    first = False\n",
    "  else:\n",
    "    rows.append(row)\n",
    "    series = np.array(list(map(float, row[4:])))\n",
    "    if row[0] == '':\n",
    "      region_counts['{} (Deaths)'.format(row[1])] = series\n",
    "    else:\n",
    "      province_counts[row[0]] = series\n",
    "      agg_counts[row[1]] += series\n",
    "# for US data\n",
    "f = open('data/time_series_19-covid-Deaths.csv')\n",
    "reader = csv.reader(f)\n",
    "first = True\n",
    "for row in reader:\n",
    "  if first:\n",
    "    first = False\n",
    "  else:\n",
    "    if row[1] == 'US' and row[0] != 'US' and row[0][-4] != ',':\n",
    "      if row[-1] == '':\n",
    "        row[-1] = -1\n",
    "      series = np.array(list(map(float, row[4:])))\n",
    "      us_counts[row[0]] = series\n",
    "f = open('data/us_mar23.csv')\n",
    "reader = csv.reader(f)\n",
    "for row in reader:\n",
    "  count = row[3]\n",
    "  if count == '':\n",
    "    count = -1\n",
    "  us_counts[row[0]][-1] = int(count)"
   ]
  },
  {
   "cell_type": "code",
   "execution_count": 77,
   "metadata": {},
   "outputs": [],
   "source": [
    "hosps = {\n",
    "    'SCC (Hosps from 3/12)' : {\n",
    "        'day' : np.array([12, 13, 14, 15, 17, 18, 19, 20, 21, 22]),\n",
    "        'count' : np.array([37, 38, 48, 52, 56, 62, 65, 93, 108, 116])\n",
    "    },\n",
    "    'SCC (Deaths from 3/12)' : {\n",
    "        'day' : None,#np.array([12, 13, 14, 15, 16, 17, 18, 19, 20, 21, 22, 23]),\n",
    "        'count' : np.array([1, 2, 2, 4, 5, 6, 6, 8, 8, 10, 13, 16, 17, 19, 20])\n",
    "    },\n",
    "    'NYS (Hosps from 3/17)' : {\n",
    "        'day' : np.array([17, 18, 19, 20, 21, 22, 23, 24, 25]), \n",
    "        'count' : np.array([264, 549, 777, 1255, 1603, 1974, 2635, 3234, 3805])\n",
    "    },\n",
    "    'NYS (Hosps from 3/12)' : {\n",
    "        'day' : np.array([12, 13, 14, 15, 16, 17, 18, 19, 20, 21, 22, 23, 24, 25]),\n",
    "        'count' : np.array([47, 50, 117, 137, 158, 264, 549, 777, 1255, 1603, 1974, 2635, 3234, 3805])\n",
    "    },\n",
    "    'NYS (Deaths from 3/17)' : {\n",
    "        'day' : np.array([17, 18, 19, 20, 21, 22, 23]), \n",
    "        'count' : np.array([13.,  16.,  34.,  42.,  60., 117., 157.]) \n",
    "    },\n",
    "    'somewhere' : {\n",
    "        'day' : None,\n",
    "        'count' : np.array([0,\n",
    "1,\n",
    "1,\n",
    "2,\n",
    "2,\n",
    "3,\n",
    "3,\n",
    "3,\n",
    "4,\n",
    "5,\n",
    "6,\n",
    "10,\n",
    "11,\n",
    "14,\n",
    "16,\n",
    "19,\n",
    "20,\n",
    "21,\n",
    "23,\n",
    "25,\n",
    "25,\n",
    "26,\n",
    "27,\n",
    "27,\n",
    "29,\n",
    "29])\n",
    "    }    \n",
    "}"
   ]
  },
  {
   "cell_type": "code",
   "execution_count": 78,
   "metadata": {},
   "outputs": [],
   "source": [
    "def calculate_growth(series, days=None, thresh=10, start=5):\n",
    "  if days is None:\n",
    "      days = np.arange(0, series.shape[0])\n",
    "  if ((series < thresh).all()):\n",
    "    return None\n",
    "  keep = series >= start\n",
    "  series = series[keep]\n",
    "  days = days[keep]\n",
    "  if (days.shape[0] < 5):\n",
    "    return None\n",
    "  print(series)\n",
    "  print(days)\n",
    "  model = analyze.ExponentialGrowthRateEstimator(family='NegativeBinomial', alpha=0.05)\n",
    "  model.fit(day=days, cases=series)\n",
    "  print(np.diff(series))\n",
    "  print(model.fitted_glm.mu)\n",
    "  est = model.growth_rate()\n",
    "  low, high = model.growth_rate_confint()\n",
    "  return (max(low, 0), est, high)"
   ]
  },
  {
   "cell_type": "code",
   "execution_count": 79,
   "metadata": {},
   "outputs": [
    {
     "name": "stdout",
     "output_type": "stream",
     "text": [
      "[ 5. 10. 14. 21. 37. 67. 75. 88.]\n",
      "[54 55 56 57 58 59 60 61]\n",
      "[0. 0. 0. 0. 0. 0. 0.]\n",
      "[ 5.  4.  7. 16. 30.  8. 13.]\n",
      "[ 6.24543671  7.56846954  9.17177355 11.11472135 13.46926307 16.32259072\n",
      " 19.78036709]\n",
      " (for Belgium (Deaths))\n",
      "[  6.   9.  11.  19.  19.  33.  48.  48.  79.  91.  91. 148. 148. 148.\n",
      " 243. 450. 562. 674. 860.]\n",
      "[43 44 45 46 47 48 49 50 51 52 53 54 55 56 57 58 59 60 61]\n",
      "[0. 0. 0. 0. 0. 0. 0. 0. 0. 0. 0. 0. 0. 0. 0. 0. 0. 0.]\n",
      "[  3.   2.   8.   0.  14.  15.   0.  31.  12.   0.  57.   0.   0.  95.\n",
      " 207. 112. 112. 186.]\n",
      "[  2.41481807   3.1243068    4.04224779   5.2298856    6.76645887\n",
      "   8.75448703  11.32661036  14.6544397   18.96000623  24.53057527\n",
      "  31.73781251  41.06258138  53.12702596  68.73608021  88.93117275\n",
      " 115.05971045 148.8649768  192.60244295]\n",
      " (for France (Deaths))\n",
      "[  7.   9.  11.  17.  24.  28.  44.  67.  84.  94. 123.]\n",
      "[51 52 53 54 55 56 57 58 59 60 61]\n",
      "[0. 0. 0. 0. 0. 0. 0. 0. 0. 0.]\n",
      "[ 2.  2.  6.  7.  4. 16. 23. 17. 10. 29.]\n",
      "[ 3.01095352  3.85975967  4.94784946  6.34267838  8.13071809 10.42281708\n",
      " 13.36107276 17.12764063 21.95602695 28.14556481]\n",
      " (for Germany (Deaths))\n",
      "[   5.    8.   12.   16.   19.   26.   34.   43.   54.   66.   77.   92.\n",
      "  107.  124.  145.  194.  237.  291.  354.  429.  514.  611.  724.  853.\n",
      "  988. 1135. 1284. 1433. 1556. 1685. 1812.]\n",
      "[31 32 33 34 35 36 37 38 39 40 41 42 43 44 45 46 47 48 49 50 51 52 53 54\n",
      " 55 56 57 58 59 60 61]\n",
      "[0. 0. 0. 0. 0. 0. 0. 0. 0. 0. 0. 0. 0. 0. 0. 0. 0. 0. 0. 0. 0. 0. 0. 0.\n",
      " 0. 0. 0. 0. 0. 0.]\n",
      "[  3.   4.   4.   3.   7.   8.   9.  11.  12.  11.  15.  15.  17.  21.\n",
      "  49.  43.  54.  63.  75.  85.  97. 113. 129. 135. 147. 149. 149. 123.\n",
      " 129. 127.]\n",
      "[  4.39531851   5.0604021    5.82612372   6.70771154   7.72269803\n",
      "   8.89126857  10.23666296  11.78563752  13.56899728  15.62220853\n",
      "  17.98610424  20.70769604  23.84110921  27.44865904  31.60209017\n",
      "  36.38400338  41.88949829  48.22806464  55.52575976  63.92771554\n",
      "  73.60102467  84.73806372  97.56031896 112.32279118 129.31906693\n",
      " 148.88715725 171.41621974 197.35429792 227.21723165 261.59891577]\n",
      " (for Iran (Deaths))\n",
      "[   7.   10.   12.   17.   21.   29.   34.   52.   79.  107.  148.  197.\n",
      "  233.  366.  463.  631.  827.  827. 1266. 1441. 1809. 2158. 2503. 2978.\n",
      " 3405. 4032. 4825. 5476. 6077.]\n",
      "[33 34 35 36 37 38 39 40 41 42 43 44 45 46 47 48 49 50 51 52 53 54 55 56\n",
      " 57 58 59 60 61]\n",
      "[0. 0. 0. 0. 0. 0. 0. 0. 0. 0. 0. 0. 0. 0. 0. 0. 0. 0. 0. 0. 0. 0. 0. 0.\n",
      " 0. 0. 0. 0.]\n",
      "[  3.   2.   5.   4.   8.   5.  18.  27.  28.  41.  49.  36. 133.  97.\n",
      " 168. 196.   0. 439. 175. 368. 349. 345. 475. 427. 627. 793. 651. 601.]\n",
      "[   6.21310979    7.56784077    9.21796264   11.22788359   13.67605563\n",
      "   16.65803678   20.29022086   24.71438069   30.10320178   36.6670227\n",
      "   44.66204504   54.40033359   66.26199702   80.71002435   98.30835657\n",
      "  119.74389861  145.85333082  177.65576668  216.39253115  263.57561263\n",
      "  321.04667939  391.04896436  476.3148238   580.17238773  706.67546477\n",
      "  860.76177197 1048.44566568 1277.05289625]\n",
      " (for Italy (Deaths))\n",
      "[  6.   8.  10.  12.  13.  13.  16.  17.  28.  28.  35.  35.  42.  44.\n",
      "  50.  53.  54.  60.  66.  66.  72.  75.  75.  81.  84.  91.  94. 102.\n",
      " 111. 111.]\n",
      "[32 33 34 35 36 37 38 39 40 41 42 43 44 45 46 47 48 49 50 51 52 53 54 55\n",
      " 56 57 58 59 60 61]\n",
      "[0. 0. 0. 0. 0. 0. 0. 0. 0. 0. 0. 0. 0. 0. 0. 0. 0. 0. 0. 0. 0. 0. 0. 0.\n",
      " 0. 0. 0. 0. 0.]\n",
      "[ 2.  2.  2.  1.  0.  3.  1. 11.  0.  7.  0.  7.  2.  6.  3.  1.  6.  6.\n",
      "  0.  6.  3.  0.  6.  3.  7.  3.  8.  9.  0.]\n",
      "[2.37246237 2.44040576 2.51029494 2.58218563 2.65613514 2.73220245\n",
      " 2.81044821 2.89093479 2.97372637 3.05888897 3.14649048 3.23660075\n",
      " 3.32929164 3.42463704 3.52271297 3.62359763 3.72737146 3.83411721\n",
      " 3.94391997 4.05686731 4.17304927 4.29255848 4.41549025 4.54194257\n",
      " 4.67201628 4.80581509 4.94344567 5.08501777 5.23064425]\n",
      " (for Korea, South (Deaths))\n",
      "[  5.   5.  10.  12.  20.  24.  43.  58.  76. 106. 136. 179. 213.]\n",
      "[49 50 51 52 53 54 55 56 57 58 59 60 61]\n",
      "[0. 0. 0. 0. 0. 0. 0. 0. 0. 0. 0. 0.]\n",
      "[ 0.  5.  2.  8.  4. 19. 15. 18. 30. 30. 43. 34.]\n",
      "[ 2.82948063  3.68477288  4.79860191  6.24911794  8.13809434 10.59806841\n",
      " 13.8016407  17.97358525 23.40662053 30.48194766 39.69599677 51.69525837]\n",
      " (for Netherlands (Deaths))\n",
      "[   5.   10.   17.   28.   35.   54.   55.  133.  195.  289.  342.  533.\n",
      "  623.  830. 1043. 1375. 1772. 2311.]\n",
      "[44 45 46 47 48 49 50 51 52 53 54 55 56 57 58 59 60 61]\n",
      "[0. 0. 0. 0. 0. 0. 0. 0. 0. 0. 0. 0. 0. 0. 0. 0. 0.]\n",
      "[  5.   7.  11.   7.  19.   1.  78.  62.  94.  53. 191.  90. 207. 213.\n",
      " 332. 397. 539.]\n",
      "[  6.66137517   8.82330455  11.68688164  15.47982411  20.5037547\n",
      "  27.15818694  35.97229524  47.64699601  63.11068599  83.59307028\n",
      " 110.72295109 146.65775354 194.2550886  257.29999631 340.80594017\n",
      " 451.41348823 597.91838503]\n",
      " (for Spain (Deaths))\n",
      "[ 11.  13.  14.  14.  27.  28.  41.  54.  75.  98. 120.]\n",
      "[51 52 53 54 55 56 57 58 59 60 61]\n",
      "[0. 0. 0. 0. 0. 0. 0. 0. 0. 0.]\n",
      "[ 2.  1.  0. 13.  1. 13. 13. 21. 23. 22.]\n",
      "[ 2.02430377  2.73385515  3.69211581  4.98626242  6.73402846  9.09441489\n",
      " 12.28215515 16.58725018 22.401351   30.25338866]\n",
      " (for Switzerland (Deaths))\n",
      "[  6.   8.   8.   8.  21.  21.  55.  55.  71. 137. 177. 233. 281. 335.]\n",
      "[48 49 50 51 52 53 54 55 56 57 58 59 60 61]\n",
      "[0. 0. 0. 0. 0. 0. 0. 0. 0. 0. 0. 0. 0.]\n",
      "[ 2.  0.  0. 13.  0. 34.  0. 16. 66. 40. 56. 48. 54.]\n",
      "[ 2.89059821  3.84475527  5.11386987  6.80190628  9.04714634 12.03351731\n",
      " 16.00565894 21.28896411 28.31623457 37.6631355  50.09535334 66.63131981\n",
      " 88.62564056]\n",
      " (for United Kingdom (Deaths))\n",
      "[  6.   7.  11.  12.  14.  17.  21.  22.  28.  36.  40.  47.  54.  63.\n",
      "  85. 108. 118. 200. 244. 307. 417. 557.]\n",
      "[40 41 42 43 44 45 46 47 48 49 50 51 52 53 54 55 56 57 58 59 60 61]\n",
      "[0. 0. 0. 0. 0. 0. 0. 0. 0. 0. 0. 0. 0. 0. 0. 0. 0. 0. 0. 0. 0.]\n",
      "[  1.   4.   1.   2.   3.   4.   1.   6.   8.   4.   7.   7.   9.  22.\n",
      "  23.  10.  82.  44.  63. 110. 140.]\n",
      "[  0.73668532   0.95005296   1.22521869   1.58008121   2.03772328\n",
      "   2.62791312   3.38904082   4.37061545   5.6364855    7.268992\n",
      "   9.37432461  12.08942889  15.59091421  20.1065417   25.93003935\n",
      "  33.44020821  43.12556221  55.61610455  71.7243075   92.4979613\n",
      " 119.28832976]\n",
      " (for US (Deaths))\n",
      "[ 37  38  48  52  56  62  65  93 108 116]\n",
      "[12 13 14 15 17 18 19 20 21 22]\n",
      "[0.         0.         0.         0.52495844 0.         0.\n",
      " 0.         0.         0.        ]\n",
      "[ 1 10  4  4  6  3 28 15  8]\n",
      "[ 3.56038264  4.18829962  4.92695742  7.42492502  8.02051048  9.43502549\n",
      " 11.09900751 13.05645308 15.35911809]\n",
      " (for SCC (Hosps from 3/12))\n",
      "[ 5  6  6  8  8 10 13 16 17 19 20]\n",
      "[ 4  5  6  7  8  9 10 11 12 13 14]\n",
      "[0. 0. 0. 0. 0. 0. 0. 0. 0. 0.]\n",
      "[1 0 2 0 2 3 3 1 2 1]\n",
      "[1.0243076  1.10869312 1.20003056 1.29889266 1.40589931 1.52172149\n",
      " 1.64708545 1.78277727 1.92964778 2.08861792]\n",
      " (for SCC (Deaths from 3/12))\n",
      "[ 264  549  777 1255 1603 1974 2635 3234 3805]\n",
      "[17 18 19 20 21 22 23 24 25]\n",
      "[0. 0. 0. 0. 0. 0. 0. 0.]\n",
      "[285 228 478 348 371 661 599 571]\n",
      "[274.4050398  311.03604832 352.55702091 399.62073099 452.96709232\n",
      " 513.43479157 581.97447378 659.66368796]\n",
      " (for NYS (Hosps from 3/17))\n",
      "[  47   50  117  137  158  264  549  777 1255 1603 1974 2635 3234 3805]\n",
      "[12 13 14 15 16 17 18 19 20 21 22 23 24 25]\n",
      "[0. 0. 0. 0. 0. 0. 0. 0. 0. 0. 0. 0. 0.]\n",
      "[  3  67  20  21 106 285 228 478 348 371 661 599 571]\n",
      "[  30.40917152   41.10892369   55.573484     75.1275355   101.56186338\n",
      "  137.29735743  185.60672017  250.91418522  339.20069428  458.55163948\n",
      "  619.89733399  838.01402415 1132.87711718]\n",
      " (for NYS (Hosps from 3/12))\n",
      "[ 13.  16.  34.  42.  60. 117. 157.]\n",
      "[17 18 19 20 21 22 23]\n",
      "[0. 0. 0. 0. 0. 0.]\n",
      "[ 3. 18.  8. 18. 57. 40.]\n",
      "[ 6.33788137  9.77656395 15.08093907 23.26325734 35.88497638 55.35473861]\n",
      " (for NYS (Deaths from 3/17))\n",
      "[ 5  6 10 11 14 16 19 20 21 23 25 25 26 27 27 29 29]\n",
      "[ 9 10 11 12 13 14 15 16 17 18 19 20 21 22 23 24 25]\n",
      "[0. 0. 0. 0. 0. 0. 0. 0. 0. 0. 0. 0. 0. 0. 0. 0.]\n",
      "[1 4 1 3 2 3 1 1 2 2 0 1 1 0 2 0]\n",
      "[2.70969951 2.47636877 2.26313002 2.06825314 1.890157   1.72739662\n",
      " 1.57865145 1.44271464 1.31848328 1.20494941 1.10119188 1.00636885\n",
      " 0.91971098 0.84051518 0.76813888 0.70199486]\n",
      " (for somewhere)\n"
     ]
    }
   ],
   "source": [
    "growths = dict()\n",
    "dataset = region_counts.items()\n",
    "for k, v in dataset:\n",
    "  growth = calculate_growth(v, thresh = 50, start = 5)\n",
    "  if growth:\n",
    "    print(' (for %s)' % k)\n",
    "    growths[k] = growth\n",
    "\n",
    "for k, v in hosps.items():\n",
    "  growth = calculate_growth(v['count'], v['day'], thresh = 10, start = 5)\n",
    "  if growth:\n",
    "    print(' (for %s)' % k)\n",
    "    growths[k] = growth"
   ]
  },
  {
   "cell_type": "code",
   "execution_count": 80,
   "metadata": {},
   "outputs": [
    {
     "data": {
      "image/png": "[encoded data removed]",
      "text/plain": [
       "<Figure size 576x432 with 1 Axes>"
      ]
     },
     "metadata": {
      "needs_background": "light"
     },
     "output_type": "display_data"
    }
   ],
   "source": [
    "to_plot = {k:growths[k] for k in ['US (Deaths)', 'Spain (Deaths)', 'Italy (Deaths)', 'NYS (Deaths from 3/17)', 'NYS (Hosps from 3/17)', 'SCC (Hosps from 3/12)']}\n",
    "to_plot = {k:growths[k] for k in ['NYS (Deaths from 3/17)', 'NYS (Hosps from 3/17)', 'NYS (Hosps from 3/12)', 'SCC (Hosps from 3/12)', 'SCC (Deaths from 3/12)', 'somewhere']}\n",
    "names = list(to_plot.keys())\n",
    "err_l = list([v[1]-v[0] for v in to_plot.values()])\n",
    "ests  = list([v[1] for v in to_plot.values()])\n",
    "err_h = list([v[2]-v[1] for v in to_plot.values()])\n",
    "errs = np.array([err_l, err_h])\n",
    "plt.rcParams['axes.axisbelow'] = True\n",
    "plt.bar(range(len(names)), ests, yerr=errs, align='center')\n",
    "plt.ylim([0,0.6])\n",
    "plt.grid(axis='y')\n",
    "plt.xlabel('Region')\n",
    "plt.xticks(rotation=35)\n",
    "plt.ylabel('Growth rate')\n",
    "plt.title('Growth in COVID-19 Deaths/Hospitalizations by Region')\n",
    "fig = matplotlib.pyplot.gcf()\n",
    "fig.set_size_inches(8, 6)\n",
    "\n",
    "\n",
    "plt.xticks(range(len(names)), names)\n",
    "plt.show()"
   ]
  },
  {
   "cell_type": "code",
   "execution_count": 81,
   "metadata": {},
   "outputs": [
    {
     "name": "stdout",
     "output_type": "stream",
     "text": [
      "{'NYS (Deaths from 3/17)': (0.3138511520623406, 0.5425602635026516, 0.8110819957057558), 'NYS (Hosps from 3/17)': (0.05759511147189311, 0.13349247721059165, 0.21483654940962627), 'NYS (Hosps from 3/12)': (0.3039506238215388, 0.35185937768102304, 0.40152835823501376), 'SCC (Hosps from 3/12)': (0.06496387188464614, 0.17636221705536848, 0.29941315592846185), 'SCC (Deaths from 3/12)': (0, 0.0823829839620609, 0.3030668194333961), 'somewhere': (0, -0.08610944979750734, 0.004661233053008473)}\n"
     ]
    }
   ],
   "source": [
    "print(to_plot)"
   ]
  },
  {
   "cell_type": "code",
   "execution_count": 33,
   "metadata": {},
   "outputs": [],
   "source": [
    "cum_preds = 264 + np.cumsum(np.array([0, 274.32275035, 310.96712133, 352.50649254, 399.59474414, 452.9731024,\n",
    " 513.48180753, 582.07334004, 659.82741398, 1.134*659.82741398]))"
   ]
  },
  {
   "cell_type": "code",
   "execution_count": 34,
   "metadata": {},
   "outputs": [
    {
     "data": {
      "image/png": "[encoded data removed]",
      "text/plain": [
       "<Figure size 432x288 with 1 Axes>"
      ]
     },
     "metadata": {
      "needs_background": "light"
     },
     "output_type": "display_data"
    }
   ],
   "source": [
    "plt.plot([264, 549, 777, 1255, 1603, 1974, 2635, 3234, 3805, 5327])\n",
    "plt.plot(cum_preds)\n",
    "plt.show()"
   ]
  },
  {
   "cell_type": "code",
   "execution_count": 52,
   "metadata": {},
   "outputs": [
    {
     "ename": "ValueError",
     "evalue": "x and y must have same first dimension, but have shapes (15,) and (16,)",
     "output_type": "error",
     "traceback": [
      "\u001b[0;31m---------------------------------------------------------------------------\u001b[0m",
      "\u001b[0;31mValueError\u001b[0m                                Traceback (most recent call last)",
      "\u001b[0;32m<ipython-input-52-727f33ef92da>\u001b[0m in \u001b[0;36m<module>\u001b[0;34m\u001b[0m\n\u001b[1;32m      5\u001b[0m \u001b[0mactual\u001b[0m \u001b[0;34m=\u001b[0m \u001b[0mnp\u001b[0m\u001b[0;34m.\u001b[0m\u001b[0marray\u001b[0m\u001b[0;34m(\u001b[0m\u001b[0;34m[\u001b[0m\u001b[0;36m47\u001b[0m\u001b[0;34m,\u001b[0m \u001b[0;36m50\u001b[0m\u001b[0;34m,\u001b[0m \u001b[0;36m117\u001b[0m\u001b[0;34m,\u001b[0m \u001b[0;36m137\u001b[0m\u001b[0;34m,\u001b[0m \u001b[0;36m158\u001b[0m\u001b[0;34m,\u001b[0m \u001b[0;36m264\u001b[0m\u001b[0;34m,\u001b[0m \u001b[0;36m549\u001b[0m\u001b[0;34m,\u001b[0m \u001b[0;36m777\u001b[0m\u001b[0;34m,\u001b[0m \u001b[0;36m1255\u001b[0m\u001b[0;34m,\u001b[0m \u001b[0;36m1603\u001b[0m\u001b[0;34m,\u001b[0m \u001b[0;36m1974\u001b[0m\u001b[0;34m,\u001b[0m \u001b[0;36m2635\u001b[0m\u001b[0;34m,\u001b[0m \u001b[0;36m3234\u001b[0m\u001b[0;34m,\u001b[0m \u001b[0;36m3805\u001b[0m\u001b[0;34m,\u001b[0m \u001b[0;36m6844\u001b[0m\u001b[0;34m]\u001b[0m\u001b[0;34m)\u001b[0m\u001b[0;34m\u001b[0m\u001b[0;34m\u001b[0m\u001b[0m\n\u001b[1;32m      6\u001b[0m \u001b[0mplt\u001b[0m\u001b[0;34m.\u001b[0m\u001b[0mplot\u001b[0m\u001b[0;34m(\u001b[0m\u001b[0mday\u001b[0m\u001b[0;34m,\u001b[0m \u001b[0mactual\u001b[0m\u001b[0;34m,\u001b[0m \u001b[0mcolor\u001b[0m\u001b[0;34m=\u001b[0m\u001b[0;34m'r'\u001b[0m\u001b[0;34m)\u001b[0m\u001b[0;34m\u001b[0m\u001b[0;34m\u001b[0m\u001b[0m\n\u001b[0;32m----> 7\u001b[0;31m \u001b[0mplt\u001b[0m\u001b[0;34m.\u001b[0m\u001b[0mplot\u001b[0m\u001b[0;34m(\u001b[0m\u001b[0mday\u001b[0m\u001b[0;34m,\u001b[0m \u001b[0mguess\u001b[0m\u001b[0;34m)\u001b[0m\u001b[0;34m\u001b[0m\u001b[0;34m\u001b[0m\u001b[0m\n\u001b[0m\u001b[1;32m      8\u001b[0m \u001b[0mplt\u001b[0m\u001b[0;34m.\u001b[0m\u001b[0mshow\u001b[0m\u001b[0;34m(\u001b[0m\u001b[0;34m)\u001b[0m\u001b[0;34m\u001b[0m\u001b[0;34m\u001b[0m\u001b[0m\n",
      "\u001b[0;32m~/anaconda3/lib/python3.7/site-packages/matplotlib/pyplot.py\u001b[0m in \u001b[0;36mplot\u001b[0;34m(scalex, scaley, data, *args, **kwargs)\u001b[0m\n\u001b[1;32m   2793\u001b[0m     return gca().plot(\n\u001b[1;32m   2794\u001b[0m         *args, scalex=scalex, scaley=scaley, **({\"data\": data} if data\n\u001b[0;32m-> 2795\u001b[0;31m         is not None else {}), **kwargs)\n\u001b[0m\u001b[1;32m   2796\u001b[0m \u001b[0;34m\u001b[0m\u001b[0m\n\u001b[1;32m   2797\u001b[0m \u001b[0;34m\u001b[0m\u001b[0m\n",
      "\u001b[0;32m~/anaconda3/lib/python3.7/site-packages/matplotlib/axes/_axes.py\u001b[0m in \u001b[0;36mplot\u001b[0;34m(self, scalex, scaley, data, *args, **kwargs)\u001b[0m\n\u001b[1;32m   1664\u001b[0m         \"\"\"\n\u001b[1;32m   1665\u001b[0m         \u001b[0mkwargs\u001b[0m \u001b[0;34m=\u001b[0m \u001b[0mcbook\u001b[0m\u001b[0;34m.\u001b[0m\u001b[0mnormalize_kwargs\u001b[0m\u001b[0;34m(\u001b[0m\u001b[0mkwargs\u001b[0m\u001b[0;34m,\u001b[0m \u001b[0mmlines\u001b[0m\u001b[0;34m.\u001b[0m\u001b[0mLine2D\u001b[0m\u001b[0;34m.\u001b[0m\u001b[0m_alias_map\u001b[0m\u001b[0;34m)\u001b[0m\u001b[0;34m\u001b[0m\u001b[0;34m\u001b[0m\u001b[0m\n\u001b[0;32m-> 1666\u001b[0;31m         \u001b[0mlines\u001b[0m \u001b[0;34m=\u001b[0m \u001b[0;34m[\u001b[0m\u001b[0;34m*\u001b[0m\u001b[0mself\u001b[0m\u001b[0;34m.\u001b[0m\u001b[0m_get_lines\u001b[0m\u001b[0;34m(\u001b[0m\u001b[0;34m*\u001b[0m\u001b[0margs\u001b[0m\u001b[0;34m,\u001b[0m \u001b[0mdata\u001b[0m\u001b[0;34m=\u001b[0m\u001b[0mdata\u001b[0m\u001b[0;34m,\u001b[0m \u001b[0;34m**\u001b[0m\u001b[0mkwargs\u001b[0m\u001b[0;34m)\u001b[0m\u001b[0;34m]\u001b[0m\u001b[0;34m\u001b[0m\u001b[0;34m\u001b[0m\u001b[0m\n\u001b[0m\u001b[1;32m   1667\u001b[0m         \u001b[0;32mfor\u001b[0m \u001b[0mline\u001b[0m \u001b[0;32min\u001b[0m \u001b[0mlines\u001b[0m\u001b[0;34m:\u001b[0m\u001b[0;34m\u001b[0m\u001b[0;34m\u001b[0m\u001b[0m\n\u001b[1;32m   1668\u001b[0m             \u001b[0mself\u001b[0m\u001b[0;34m.\u001b[0m\u001b[0madd_line\u001b[0m\u001b[0;34m(\u001b[0m\u001b[0mline\u001b[0m\u001b[0;34m)\u001b[0m\u001b[0;34m\u001b[0m\u001b[0;34m\u001b[0m\u001b[0m\n",
      "\u001b[0;32m~/anaconda3/lib/python3.7/site-packages/matplotlib/axes/_base.py\u001b[0m in \u001b[0;36m__call__\u001b[0;34m(self, *args, **kwargs)\u001b[0m\n\u001b[1;32m    223\u001b[0m                 \u001b[0mthis\u001b[0m \u001b[0;34m+=\u001b[0m \u001b[0margs\u001b[0m\u001b[0;34m[\u001b[0m\u001b[0;36m0\u001b[0m\u001b[0;34m]\u001b[0m\u001b[0;34m,\u001b[0m\u001b[0;34m\u001b[0m\u001b[0;34m\u001b[0m\u001b[0m\n\u001b[1;32m    224\u001b[0m                 \u001b[0margs\u001b[0m \u001b[0;34m=\u001b[0m \u001b[0margs\u001b[0m\u001b[0;34m[\u001b[0m\u001b[0;36m1\u001b[0m\u001b[0;34m:\u001b[0m\u001b[0;34m]\u001b[0m\u001b[0;34m\u001b[0m\u001b[0;34m\u001b[0m\u001b[0m\n\u001b[0;32m--> 225\u001b[0;31m             \u001b[0;32myield\u001b[0m \u001b[0;32mfrom\u001b[0m \u001b[0mself\u001b[0m\u001b[0;34m.\u001b[0m\u001b[0m_plot_args\u001b[0m\u001b[0;34m(\u001b[0m\u001b[0mthis\u001b[0m\u001b[0;34m,\u001b[0m \u001b[0mkwargs\u001b[0m\u001b[0;34m)\u001b[0m\u001b[0;34m\u001b[0m\u001b[0;34m\u001b[0m\u001b[0m\n\u001b[0m\u001b[1;32m    226\u001b[0m \u001b[0;34m\u001b[0m\u001b[0m\n\u001b[1;32m    227\u001b[0m     \u001b[0;32mdef\u001b[0m \u001b[0mget_next_color\u001b[0m\u001b[0;34m(\u001b[0m\u001b[0mself\u001b[0m\u001b[0;34m)\u001b[0m\u001b[0;34m:\u001b[0m\u001b[0;34m\u001b[0m\u001b[0;34m\u001b[0m\u001b[0m\n",
      "\u001b[0;32m~/anaconda3/lib/python3.7/site-packages/matplotlib/axes/_base.py\u001b[0m in \u001b[0;36m_plot_args\u001b[0;34m(self, tup, kwargs)\u001b[0m\n\u001b[1;32m    389\u001b[0m             \u001b[0mx\u001b[0m\u001b[0;34m,\u001b[0m \u001b[0my\u001b[0m \u001b[0;34m=\u001b[0m \u001b[0mindex_of\u001b[0m\u001b[0;34m(\u001b[0m\u001b[0mtup\u001b[0m\u001b[0;34m[\u001b[0m\u001b[0;34m-\u001b[0m\u001b[0;36m1\u001b[0m\u001b[0;34m]\u001b[0m\u001b[0;34m)\u001b[0m\u001b[0;34m\u001b[0m\u001b[0;34m\u001b[0m\u001b[0m\n\u001b[1;32m    390\u001b[0m \u001b[0;34m\u001b[0m\u001b[0m\n\u001b[0;32m--> 391\u001b[0;31m         \u001b[0mx\u001b[0m\u001b[0;34m,\u001b[0m \u001b[0my\u001b[0m \u001b[0;34m=\u001b[0m \u001b[0mself\u001b[0m\u001b[0;34m.\u001b[0m\u001b[0m_xy_from_xy\u001b[0m\u001b[0;34m(\u001b[0m\u001b[0mx\u001b[0m\u001b[0;34m,\u001b[0m \u001b[0my\u001b[0m\u001b[0;34m)\u001b[0m\u001b[0;34m\u001b[0m\u001b[0;34m\u001b[0m\u001b[0m\n\u001b[0m\u001b[1;32m    392\u001b[0m \u001b[0;34m\u001b[0m\u001b[0m\n\u001b[1;32m    393\u001b[0m         \u001b[0;32mif\u001b[0m \u001b[0mself\u001b[0m\u001b[0;34m.\u001b[0m\u001b[0mcommand\u001b[0m \u001b[0;34m==\u001b[0m \u001b[0;34m'plot'\u001b[0m\u001b[0;34m:\u001b[0m\u001b[0;34m\u001b[0m\u001b[0;34m\u001b[0m\u001b[0m\n",
      "\u001b[0;32m~/anaconda3/lib/python3.7/site-packages/matplotlib/axes/_base.py\u001b[0m in \u001b[0;36m_xy_from_xy\u001b[0;34m(self, x, y)\u001b[0m\n\u001b[1;32m    268\u001b[0m         \u001b[0;32mif\u001b[0m \u001b[0mx\u001b[0m\u001b[0;34m.\u001b[0m\u001b[0mshape\u001b[0m\u001b[0;34m[\u001b[0m\u001b[0;36m0\u001b[0m\u001b[0;34m]\u001b[0m \u001b[0;34m!=\u001b[0m \u001b[0my\u001b[0m\u001b[0;34m.\u001b[0m\u001b[0mshape\u001b[0m\u001b[0;34m[\u001b[0m\u001b[0;36m0\u001b[0m\u001b[0;34m]\u001b[0m\u001b[0;34m:\u001b[0m\u001b[0;34m\u001b[0m\u001b[0;34m\u001b[0m\u001b[0m\n\u001b[1;32m    269\u001b[0m             raise ValueError(\"x and y must have same first dimension, but \"\n\u001b[0;32m--> 270\u001b[0;31m                              \"have shapes {} and {}\".format(x.shape, y.shape))\n\u001b[0m\u001b[1;32m    271\u001b[0m         \u001b[0;32mif\u001b[0m \u001b[0mx\u001b[0m\u001b[0;34m.\u001b[0m\u001b[0mndim\u001b[0m \u001b[0;34m>\u001b[0m \u001b[0;36m2\u001b[0m \u001b[0;32mor\u001b[0m \u001b[0my\u001b[0m\u001b[0;34m.\u001b[0m\u001b[0mndim\u001b[0m \u001b[0;34m>\u001b[0m \u001b[0;36m2\u001b[0m\u001b[0;34m:\u001b[0m\u001b[0;34m\u001b[0m\u001b[0;34m\u001b[0m\u001b[0m\n\u001b[1;32m    272\u001b[0m             raise ValueError(\"x and y can be no greater than 2-D, but have \"\n",
      "\u001b[0;31mValueError\u001b[0m: x and y must have same first dimension, but have shapes (15,) and (16,)"
     ]
    },
    {
     "data": {
      "image/png": "[encoded data removed]",
      "text/plain": [
       "<Figure size 432x288 with 1 Axes>"
      ]
     },
     "metadata": {
      "needs_background": "light"
     },
     "output_type": "display_data"
    }
   ],
   "source": [
    "day = [12, 13, 14, 15, 16, 17, 18, 19, 20, 21, 22, 23, 24, 25, 26, 72]\n",
    "guess = 47 + np.cumsum(np.array([0, 28.91470084,   39.35819335,   53.57369569 ,  72.92359291 ,  99.26234012,\n",
    "  135.1141897,   183.91511056,  250.34208449,  340.76133862,  463.8384718,\n",
    "  631.36894812,  859.40855035, 1169.8121338, 1169.8121338*1.3611, 1169.8121338*(1.3611**2)]))\n",
    "actual = np.array([47, 50, 117, 137, 158, 264, 549, 777, 1255, 1603, 1974, 2635, 3234, 3805, 6844,])\n",
    "plt.plot(day, actual, color='r')\n",
    "plt.plot(day, guess)\n",
    "plt.show()"
   ]
  },
  {
   "cell_type": "code",
   "execution_count": 51,
   "metadata": {},
   "outputs": [
    {
     "name": "stdout",
     "output_type": "stream",
     "text": [
      "[ 37.          40.56038264  44.74868226  49.67563968  57.1005647\n",
      "  65.12107518  74.55610067  85.65510818  98.71156126 114.07067935\n",
      " 132.13856556 152.43146087 176.30325619 204.38513425 237.4195946 ]\n"
     ]
    },
    {
     "data": {
      "image/png": "[encoded data removed]",
      "text/plain": [
       "<Figure size 432x288 with 1 Axes>"
      ]
     },
     "metadata": {
      "needs_background": "light"
     },
     "output_type": "display_data"
    }
   ],
   "source": [
    "\n",
    "guess = 37 + np.cumsum(np.array([0, 3.56038264,  4.18829962,  4.92695742,  7.42492502,  8.02051048,  9.43502549,\n",
    " 11.09900751, 13.05645308, 15.35911809,  15.35911809*(1+to_plot['SCC (Hosps from 3/12)'][1]), 14.66431836*(1+to_plot['SCC (Hosps from 3/12)'][1]) ** 2, 14.66431836*(1+to_plot['SCC (Hosps from 3/12)'][1]) ** 3, 14.66431836*(1+to_plot['SCC (Hosps from 3/12)'][1]) ** 4, 14.66431836*(1+to_plot['SCC (Hosps from 3/12)'][1]) ** 5]))\n",
    "actual = np.array([37, 38,  48,  52,  56,  62,  65,  93, 108, 116, 125, 153])\n",
    "print(guess)\n",
    "plt.plot(actual)\n",
    "plt.plot(guess)\n",
    "plt.show()"
   ]
  },
  {
   "cell_type": "code",
   "execution_count": null,
   "metadata": {},
   "outputs": [],
   "source": []
  }
 ],
 "metadata": {
  "kernelspec": {
   "display_name": "Python 3",
   "language": "python",
   "name": "python3"
  },
  "language_info": {
   "codemirror_mode": {
    "name": "ipython",
    "version": 3
   },
   "file_extension": ".py",
   "mimetype": "text/x-python",
   "name": "python",
   "nbconvert_exporter": "python",
   "pygments_lexer": "ipython3",
   "version": "3.7.3"
  }
 },
 "nbformat": 4,
 "nbformat_minor": 2
}
